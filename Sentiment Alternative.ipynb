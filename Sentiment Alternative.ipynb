{
 "cells": [
  {
   "cell_type": "markdown",
   "metadata": {},
   "source": [
    "## Sentiment Analysis Alternative"
   ]
  },
  {
   "cell_type": "code",
   "execution_count": 1,
   "metadata": {
    "collapsed": true
   },
   "outputs": [],
   "source": [
    "from pyspark.sql import SparkSession\n",
    "from pyspark import SparkContext\n",
    "from pyspark.ml.feature import Tokenizer, RegexTokenizer, StopWordsRemover\n",
    "from pyspark.sql.functions import col, udf\n",
    "from pyspark.sql.types import IntegerType\n",
    "import string\n",
    "\n",
    "sc = SparkContext()\n",
    "spark = SparkSession.builder.appName(\"SentimentAlternative\").getOrCreate()"
   ]
  },
  {
   "cell_type": "code",
   "execution_count": 2,
   "metadata": {},
   "outputs": [
    {
     "name": "stdout",
     "output_type": "stream",
     "text": [
      "+---------------------------------------------------------------------------------------------------------+\n",
      "|cleaned                                                                                                  |\n",
      "+---------------------------------------------------------------------------------------------------------+\n",
      "|[listening, port]                                                                                        |\n",
      "|[received, request]                                                                                      |\n",
      "|[ashley, purdy, left, bvb, gonna, look, naked, women, bass, guitar, see, live]                           |\n",
      "|[jennyhalasz, probably, gone, guitar, stuff, iuao, dro]                                                  |\n",
      "|[starecrows, opening, guitar, part, loops, end]                                                          |\n",
      "|[jamesbut_, bass, guitar, world, smallest, violin]                                                       |\n",
      "|[merle, travis, dark, dungeon, solo, guitar, via, countrymusic, kqoqnumt]                                |\n",
      "|[zager, guitar, giveaway, mjie, via, zager_guitars]                                                      |\n",
      "|[wed, grossmont, guitar, ensemble, audy, ffwnv]                                                          |\n",
      "|[gtraddict, impress, people, play, guitar, guitarist, guitarplayer, tvpbqrajnm]                          |\n",
      "|[metallica, songs, basically, bunch, guitar, noise, dude, growling, microphone, change, mind]            |\n",
      "|[motleycrue, corymarksmusic, ffdp, mick, shhhhiiitttt, underrated, guitar, player, master, slide, method]|\n",
      "|[spooky, guitar, riff, limbo, stuck, head, since, ago, remember, song]                                   |\n",
      "|[sportsourcea, slmandel, least, rutgers, rock, guitar, lol]                                              |\n",
      "|[spooky, guitar, riff, limbo, stuck, head, since, ago, remember, song]                                   |\n",
      "|[nossinbotseavz, nothingbutsoda, guitar, pick, earring, see, cuz, legend]                                |\n",
      "|[acu, dude, happened, guitar, hero, guitar, controller]                                                  |\n",
      "|[badass]                                                                                                 |\n",
      "|[morasee, metallica, songs, basically, bunch, guitar, noise, dude, growling, microphone, change, mind]   |\n",
      "|[epiphone, guitar, lot, moxbucim, gaasoa]                                                                |\n",
      "+---------------------------------------------------------------------------------------------------------+\n",
      "only showing top 20 rows\n",
      "\n"
     ]
    }
   ],
   "source": [
    "lines=sc.textFile(\"data.txt\")\n",
    "\n",
    "df = (lines.flatMap(lambda line: line.split('b\\''))\n",
    "      .filter(lambda line: '\\\\' not in line)\n",
    "      .filter(lambda line: line != '')\n",
    "      .map(lambda line: (line, )).toDF(['tweet']))\n",
    "\n",
    "df.createOrReplaceTempView('tweets')\n",
    "tweets = spark.sql('select * from tweets')\n",
    "\n",
    "stopwords = StopWordsRemover().getStopWords()\n",
    "add_stopwords = ['http', 'https']\n",
    "# print(stopwords)\n",
    "regexTokenizer = RegexTokenizer(inputCol='tweet', outputCol='words', pattern='([0-9\\@\\W])').setMinTokenLength(3)\n",
    "regexTokenized = regexTokenizer.transform(tweets)\n",
    "\n",
    "remover = StopWordsRemover(inputCol='words', outputCol='cleaned').setStopWords(stopwords + add_stopwords)\n",
    "filtered_df = remover.transform(regexTokenized.select(['words']))\n",
    "filtered_df.select('cleaned').show(truncate=False)"
   ]
  },
  {
   "cell_type": "code",
   "execution_count": 3,
   "metadata": {},
   "outputs": [
    {
     "data": {
      "text/html": [
       "<div>\n",
       "<style>\n",
       "    .dataframe thead tr:only-child th {\n",
       "        text-align: right;\n",
       "    }\n",
       "\n",
       "    .dataframe thead th {\n",
       "        text-align: left;\n",
       "    }\n",
       "\n",
       "    .dataframe tbody tr th {\n",
       "        vertical-align: top;\n",
       "    }\n",
       "</style>\n",
       "<table border=\"1\" class=\"dataframe\">\n",
       "  <thead>\n",
       "    <tr style=\"text-align: right;\">\n",
       "      <th></th>\n",
       "      <th>words</th>\n",
       "      <th>cleaned</th>\n",
       "    </tr>\n",
       "  </thead>\n",
       "  <tbody>\n",
       "    <tr>\n",
       "      <th>0</th>\n",
       "      <td>[listening, port]</td>\n",
       "      <td>[listening, port]</td>\n",
       "    </tr>\n",
       "    <tr>\n",
       "      <th>1</th>\n",
       "      <td>[received, request, from]</td>\n",
       "      <td>[received, request]</td>\n",
       "    </tr>\n",
       "    <tr>\n",
       "      <th>2</th>\n",
       "      <td>[ashley, purdy, left, bvb, how, gonna, look, n...</td>\n",
       "      <td>[ashley, purdy, left, bvb, gonna, look, naked,...</td>\n",
       "    </tr>\n",
       "    <tr>\n",
       "      <th>3</th>\n",
       "      <td>[jennyhalasz, probably, would, have, gone, wit...</td>\n",
       "      <td>[jennyhalasz, probably, gone, guitar, stuff, i...</td>\n",
       "    </tr>\n",
       "    <tr>\n",
       "      <th>4</th>\n",
       "      <td>[starecrows, the, opening, with, the, guitar, ...</td>\n",
       "      <td>[starecrows, opening, guitar, part, loops, end]</td>\n",
       "    </tr>\n",
       "  </tbody>\n",
       "</table>\n",
       "</div>"
      ],
      "text/plain": [
       "                                               words  \\\n",
       "0                                  [listening, port]   \n",
       "1                          [received, request, from]   \n",
       "2  [ashley, purdy, left, bvb, how, gonna, look, n...   \n",
       "3  [jennyhalasz, probably, would, have, gone, wit...   \n",
       "4  [starecrows, the, opening, with, the, guitar, ...   \n",
       "\n",
       "                                             cleaned  \n",
       "0                                  [listening, port]  \n",
       "1                                [received, request]  \n",
       "2  [ashley, purdy, left, bvb, gonna, look, naked,...  \n",
       "3  [jennyhalasz, probably, gone, guitar, stuff, i...  \n",
       "4    [starecrows, opening, guitar, part, loops, end]  "
      ]
     },
     "execution_count": 3,
     "metadata": {},
     "output_type": "execute_result"
    }
   ],
   "source": [
    "df = filtered_df.toPandas()\n",
    "df.head()"
   ]
  },
  {
   "cell_type": "code",
   "execution_count": 4,
   "metadata": {},
   "outputs": [
    {
     "name": "stdout",
     "output_type": "stream",
     "text": [
      "pos    44\n",
      "neg    22\n",
      "Name: label, dtype: int64\n"
     ]
    },
    {
     "data": {
      "text/html": [
       "<div>\n",
       "<style>\n",
       "    .dataframe thead tr:only-child th {\n",
       "        text-align: right;\n",
       "    }\n",
       "\n",
       "    .dataframe thead th {\n",
       "        text-align: left;\n",
       "    }\n",
       "\n",
       "    .dataframe tbody tr th {\n",
       "        vertical-align: top;\n",
       "    }\n",
       "</style>\n",
       "<table border=\"1\" class=\"dataframe\">\n",
       "  <thead>\n",
       "    <tr style=\"text-align: right;\">\n",
       "      <th></th>\n",
       "      <th>polarity</th>\n",
       "      <th>subjectivity</th>\n",
       "      <th>tweet</th>\n",
       "      <th>label</th>\n",
       "    </tr>\n",
       "  </thead>\n",
       "  <tbody>\n",
       "    <tr>\n",
       "      <th>0</th>\n",
       "      <td>-0.003409</td>\n",
       "      <td>0.35</td>\n",
       "      <td>ashley purdy left bvb gonna look naked women b...</td>\n",
       "      <td>neg</td>\n",
       "    </tr>\n",
       "    <tr>\n",
       "      <th>1</th>\n",
       "      <td>-0.150000</td>\n",
       "      <td>0.50</td>\n",
       "      <td>jamesbut_ bass guitar world smallest violin</td>\n",
       "      <td>neg</td>\n",
       "    </tr>\n",
       "    <tr>\n",
       "      <th>2</th>\n",
       "      <td>-0.150000</td>\n",
       "      <td>0.40</td>\n",
       "      <td>merle travis dark dungeon solo guitar via coun...</td>\n",
       "      <td>neg</td>\n",
       "    </tr>\n",
       "    <tr>\n",
       "      <th>3</th>\n",
       "      <td>0.250000</td>\n",
       "      <td>0.55</td>\n",
       "      <td>sportsourcea slmandel least rutgers rock guita...</td>\n",
       "      <td>pos</td>\n",
       "    </tr>\n",
       "    <tr>\n",
       "      <th>4</th>\n",
       "      <td>-0.500000</td>\n",
       "      <td>1.00</td>\n",
       "      <td>need electric guitar stop making sad ass music</td>\n",
       "      <td>neg</td>\n",
       "    </tr>\n",
       "  </tbody>\n",
       "</table>\n",
       "</div>"
      ],
      "text/plain": [
       "   polarity  subjectivity                                              tweet  \\\n",
       "0 -0.003409          0.35  ashley purdy left bvb gonna look naked women b...   \n",
       "1 -0.150000          0.50        jamesbut_ bass guitar world smallest violin   \n",
       "2 -0.150000          0.40  merle travis dark dungeon solo guitar via coun...   \n",
       "3  0.250000          0.55  sportsourcea slmandel least rutgers rock guita...   \n",
       "4 -0.500000          1.00     need electric guitar stop making sad ass music   \n",
       "\n",
       "  label  \n",
       "0   neg  \n",
       "1   neg  \n",
       "2   neg  \n",
       "3   pos  \n",
       "4   neg  "
      ]
     },
     "execution_count": 4,
     "metadata": {},
     "output_type": "execute_result"
    }
   ],
   "source": [
    "import pandas as pd\n",
    "from textblob import TextBlob\n",
    "\n",
    "ta = []\n",
    "for line in df.cleaned.items():\n",
    "    blob = TextBlob(' '.join(line[1]))\n",
    "    if blob.sentiment.polarity != 0 and blob.sentiment.subjectivity !=0:\n",
    "#         print(blob.sentiment.polarity, blob.sentiment.subjectivity, ' '.join(line[1]))\n",
    "        ta.append((blob.sentiment.polarity, blob.sentiment.subjectivity, ' '.join(line[1])))\n",
    " \n",
    "sentiment_df = pd.DataFrame(ta, columns=('polarity', 'subjectivity', 'tweet'))\n",
    "sentiment_df['label'] = sentiment_df.polarity.apply(lambda x: 'pos' if x > 0 else 'neg')\n",
    "print(sentiment_df['label'].value_counts())\n",
    "sentiment_df.head()"
   ]
  },
  {
   "cell_type": "code",
   "execution_count": 5,
   "metadata": {
    "collapsed": true
   },
   "outputs": [],
   "source": [
    "# split data\n",
    "import math\n",
    "import random\n",
    "\n",
    "classifier_tuples = list(sentiment_df.drop(['polarity', 'subjectivity'], axis=1).itertuples(index=False, name=None))\n",
    "train=random.sample(classifier_tuples, math.ceil(len(classifier_tuples) * .7))\n",
    "test=[t for t in classifier_tuples if t not in train]"
   ]
  },
  {
   "cell_type": "code",
   "execution_count": 6,
   "metadata": {},
   "outputs": [
    {
     "name": "stdout",
     "output_type": "stream",
     "text": [
      "Classifier Accuracy: 0.71\n"
     ]
    }
   ],
   "source": [
    "from textblob.classifiers import NaiveBayesClassifier\n",
    "cl = NaiveBayesClassifier(train)\n",
    "print(\"Classifier Accuracy: {:.2f}\".format(cl.accuracy(test)))"
   ]
  },
  {
   "cell_type": "code",
   "execution_count": 7,
   "metadata": {},
   "outputs": [
    {
     "name": "stdout",
     "output_type": "stream",
     "text": [
      "Most Informative Features\n",
      "      contains(electric) = True              neg : pos    =      3.4 : 1.0\n",
      "           contains(one) = True              neg : pos    =      2.9 : 1.0\n",
      "          contains(play) = True              pos : neg    =      2.4 : 1.0\n",
      "          contains(want) = True              neg : pos    =      2.1 : 1.0\n",
      "          contains(bass) = False             pos : neg    =      1.4 : 1.0\n",
      "         contains(never) = False             pos : neg    =      1.3 : 1.0\n",
      "          contains(nail) = False             pos : neg    =      1.3 : 1.0\n",
      "   contains(guitarworld) = False             pos : neg    =      1.3 : 1.0\n",
      "          contains(sutm) = False             pos : neg    =      1.3 : 1.0\n",
      "         contains(zvtfa) = False             pos : neg    =      1.3 : 1.0\n"
     ]
    }
   ],
   "source": [
    "cl.show_informative_features(10)"
   ]
  }
 ],
 "metadata": {
  "kernelspec": {
   "display_name": "Python 3",
   "language": "python",
   "name": "python3"
  },
  "language_info": {
   "codemirror_mode": {
    "name": "ipython",
    "version": 3
   },
   "file_extension": ".py",
   "mimetype": "text/x-python",
   "name": "python",
   "nbconvert_exporter": "python",
   "pygments_lexer": "ipython3",
   "version": "3.6.1"
  }
 },
 "nbformat": 4,
 "nbformat_minor": 2
}
