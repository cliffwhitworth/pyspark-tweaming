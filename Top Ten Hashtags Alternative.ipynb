{
 "cells": [
  {
   "cell_type": "markdown",
   "metadata": {},
   "source": [
    "## Top Ten Hashtags Alternative"
   ]
  },
  {
   "cell_type": "code",
   "execution_count": null,
   "metadata": {
    "collapsed": true
   },
   "outputs": [],
   "source": [
    "# run python TweetRead.py > data.txt then run this file\n",
    "\n",
    "from pyspark import SparkContext\n",
    "from pyspark.streaming import StreamingContext\n",
    "from pyspark.sql import SQLContext\n",
    "\n",
    "import time\n",
    "import pandas as pd\n",
    "from IPython import display\n",
    "import matplotlib.pyplot as plt\n",
    "\n",
    "sc = SparkContext()\n",
    "ssc = StreamingContext(sc, 1 )\n",
    "sqlContext = SQLContext(sc)\n",
    "lines = ssc.socketTextStream(\"localhost\", 9999)\n",
    "( lines.flatMap(lambda line: line.split(\" \"))\n",
    "    .filter( lambda word: word.lower().startswith(\"#\") )\n",
    "    .map(lambda word: (word, 1))\n",
    "    .reduceByKey(lambda x, y: x + y)\n",
    "    .foreachRDD( lambda rdd: rdd.toDF()) )\n",
    "\n",
    "ssc.start()"
   ]
  },
  {
   "cell_type": "code",
   "execution_count": null,
   "metadata": {
    "collapsed": true
   },
   "outputs": [],
   "source": [
    "filepath = \"data.txt\"\n",
    "count = 0\n",
    "while True:\n",
    "    time.sleep( 10 )    \n",
    "    count += 1\n",
    "\n",
    "    lines = []\n",
    "    with open(filepath) as fp:\n",
    "        line = fp.readline()\n",
    "        cnt = 1\n",
    "        while line:\n",
    "            lines.append(line.strip())\n",
    "            line = fp.readline()        \n",
    "            cnt += 1\n",
    "\n",
    "    pdf = pd.DataFrame(lines, columns=[\"tag\"])\n",
    "   \n",
    "    hashtags = []\n",
    "    for i in pdf.items():\n",
    "        for j in list(i[1]):        \n",
    "            [hashtags.append(word) for word in j.split(\" \") if word.startswith(\"#\")]\n",
    "\n",
    "    df = pd.DataFrame(hashtags, columns=[\"hashtag\"])\n",
    "    display.clear_output(wait=True)\n",
    "    print(\"seconds running: {}\".format(count * 10))\n",
    "    print(\"hashtag count: \", len(df[\"hashtag\"]))\n",
    "    if len(df.index) > 0:\n",
    "        df[\"hashtag\"].value_counts().head(10).plot(kind=\"bar\")\n",
    "        plt.title(\"Top Ten Hashtags\")\n",
    "        plt.show()"
   ]
  }
 ],
 "metadata": {
  "kernelspec": {
   "display_name": "Python 3",
   "language": "python",
   "name": "python3"
  },
  "language_info": {
   "codemirror_mode": {
    "name": "ipython",
    "version": 3
   },
   "file_extension": ".py",
   "mimetype": "text/x-python",
   "name": "python",
   "nbconvert_exporter": "python",
   "pygments_lexer": "ipython3",
   "version": "3.6.1"
  }
 },
 "nbformat": 4,
 "nbformat_minor": 2
}
