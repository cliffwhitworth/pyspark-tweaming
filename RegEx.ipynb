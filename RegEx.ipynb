{
 "cells": [
  {
   "cell_type": "markdown",
   "metadata": {},
   "source": [
    "## RegEx"
   ]
  },
  {
   "cell_type": "code",
   "execution_count": 1,
   "metadata": {
    "collapsed": true
   },
   "outputs": [],
   "source": [
    "from pyspark.sql import SparkSession\n",
    "from pyspark import SparkContext\n",
    "\n",
    "sc = SparkContext()\n",
    "spark = SparkSession.builder.appName('RegEx').getOrCreate()"
   ]
  },
  {
   "cell_type": "code",
   "execution_count": 2,
   "metadata": {
    "collapsed": true
   },
   "outputs": [],
   "source": [
    "lines=sc.textFile('data.txt')"
   ]
  },
  {
   "cell_type": "code",
   "execution_count": 3,
   "metadata": {},
   "outputs": [
    {
     "name": "stdout",
     "output_type": "stream",
     "text": [
      "+-----------+-----+\n",
      "|       word|count|\n",
      "+-----------+-----+\n",
      "|     guitar|  421|\n",
      "|        the|  261|\n",
      "|        and|  192|\n",
      "|       this|  104|\n",
      "|        you|   96|\n",
      "|        his|   81|\n",
      "|        for|   78|\n",
      "|    playing|   68|\n",
      "|       play|   57|\n",
      "|       that|   55|\n",
      "|        how|   55|\n",
      "|        her|   55|\n",
      "|    singing|   48|\n",
      "|        who|   47|\n",
      "|       like|   40|\n",
      "|performance|   38|\n",
      "|   chanyeol|   38|\n",
      "|     missed|   38|\n",
      "|   kyungsoo|   38|\n",
      "|     tuning|   36|\n",
      "+-----------+-----+\n",
      "\n"
     ]
    }
   ],
   "source": [
    "import re\n",
    "\n",
    "m = ( lines.flatMap(lambda line: line.split(' '))\n",
    "     .filter(lambda word: re.match(r'[a-zA-Z][^-@\\'\\\\][^http]+', word))\n",
    "     .map(lambda word: (word.lower(), 1))\n",
    "     .reduceByKey(lambda x, y: x + y))\n",
    "    \n",
    "df = spark.createDataFrame(m, ['word', 'count'])\n",
    "df.createOrReplaceTempView('words')\n",
    "words = spark.sql('select word, count from words order by count desc limit 20')\n",
    "words.show()"
   ]
  },
  {
   "cell_type": "code",
   "execution_count": 4,
   "metadata": {},
   "outputs": [
    {
     "name": "stdout",
     "output_type": "stream",
     "text": [
      "+---------------------------------------------------------------------------------------------------------+\n",
      "|cleaned                                                                                                  |\n",
      "+---------------------------------------------------------------------------------------------------------+\n",
      "|[listening, port]                                                                                        |\n",
      "|[received, request]                                                                                      |\n",
      "|[ashley, purdy, left, bvb, gonna, look, naked, women, bass, guitar, see, live]                           |\n",
      "|[jennyhalasz, probably, gone, guitar, stuff, iuao, dro]                                                  |\n",
      "|[starecrows, opening, guitar, part, loops, end]                                                          |\n",
      "|[jamesbut_, bass, guitar, world, smallest, violin]                                                       |\n",
      "|[merle, travis, dark, dungeon, solo, guitar, via, countrymusic, kqoqnumt]                                |\n",
      "|[zager, guitar, giveaway, mjie, via, zager_guitars]                                                      |\n",
      "|[wed, grossmont, guitar, ensemble, audy, ffwnv]                                                          |\n",
      "|[gtraddict, impress, people, play, guitar, guitarist, guitarplayer, tvpbqrajnm]                          |\n",
      "|[metallica, songs, basically, bunch, guitar, noise, dude, growling, microphone, change, mind]            |\n",
      "|[motleycrue, corymarksmusic, ffdp, mick, shhhhiiitttt, underrated, guitar, player, master, slide, method]|\n",
      "|[spooky, guitar, riff, limbo, stuck, head, since, ago, remember, song]                                   |\n",
      "|[sportsourcea, slmandel, least, rutgers, rock, guitar, lol]                                              |\n",
      "|[spooky, guitar, riff, limbo, stuck, head, since, ago, remember, song]                                   |\n",
      "|[nossinbotseavz, nothingbutsoda, guitar, pick, earring, see, cuz, legend]                                |\n",
      "|[acu, dude, happened, guitar, hero, guitar, controller]                                                  |\n",
      "|[badass]                                                                                                 |\n",
      "|[morasee, metallica, songs, basically, bunch, guitar, noise, dude, growling, microphone, change, mind]   |\n",
      "|[epiphone, guitar, lot, moxbucim, gaasoa]                                                                |\n",
      "+---------------------------------------------------------------------------------------------------------+\n",
      "only showing top 20 rows\n",
      "\n"
     ]
    }
   ],
   "source": [
    "from pyspark.ml.feature import Tokenizer, RegexTokenizer, StopWordsRemover\n",
    "\n",
    "df = (lines.flatMap(lambda line: line.split('b\\''))\n",
    "      .filter(lambda line: '\\\\' not in line)\n",
    "      .filter(lambda line: line != '')\n",
    "      .map(lambda line: (line, )).toDF(['tweet']))\n",
    "\n",
    "df.createOrReplaceTempView('tweets')\n",
    "tweets = spark.sql('select * from tweets')\n",
    "\n",
    "stopwords = StopWordsRemover().getStopWords()\n",
    "add_stopwords = ['http', 'https']\n",
    "# print(stopwords)\n",
    "regexTokenizer = RegexTokenizer(inputCol='tweet', outputCol='words', pattern='([0-9\\@\\W])').setMinTokenLength(3)\n",
    "regexTokenized = regexTokenizer.transform(tweets)\n",
    "\n",
    "remover = StopWordsRemover(inputCol='words', outputCol='cleaned').setStopWords(stopwords + add_stopwords)\n",
    "filtered_df = remover.transform(regexTokenized.select(['words']))\n",
    "filtered_df.select('cleaned').show(truncate=False)"
   ]
  },
  {
   "cell_type": "code",
   "execution_count": 5,
   "metadata": {},
   "outputs": [
    {
     "name": "stdout",
     "output_type": "stream",
     "text": [
      "+--------------+--------+\n",
      "|       cleaned|count(1)|\n",
      "+--------------+--------+\n",
      "|        guitar|     168|\n",
      "|          play|      39|\n",
      "|           one|      14|\n",
      "|           via|      14|\n",
      "|           img|      12|\n",
      "|          send|      12|\n",
      "|          plus|      12|\n",
      "|          song|      11|\n",
      "|     fvckxford|      11|\n",
      "|         girls|      10|\n",
      "|       playing|       8|\n",
      "|       youtube|       8|\n",
      "|          hero|       7|\n",
      "|         never|       7|\n",
      "|          need|       6|\n",
      "|           lot|       6|\n",
      "|personallyrich|       6|\n",
      "|          bass|       5|\n",
      "|    undefeated|       5|\n",
      "|          solo|       5|\n",
      "+--------------+--------+\n",
      "only showing top 20 rows\n",
      "\n"
     ]
    }
   ],
   "source": [
    "from pyspark.sql.functions import explode, count, col, desc\n",
    "\n",
    "sum_of_words = filtered_df.withColumn('cleaned', explode(col('cleaned'))).groupBy('cleaned').agg(count('*'))\n",
    "sum_of_words.sort(desc('count(1)')).show()"
   ]
  },
  {
   "cell_type": "code",
   "execution_count": 6,
   "metadata": {},
   "outputs": [
    {
     "name": "stdout",
     "output_type": "stream",
     "text": [
      "1309\n"
     ]
    }
   ],
   "source": [
    "num_features = sum_of_words.groupBy().sum().collect()[0][0]\n",
    "print(num_features)"
   ]
  }
 ],
 "metadata": {
  "kernelspec": {
   "display_name": "Python 3",
   "language": "python",
   "name": "python3"
  },
  "language_info": {
   "codemirror_mode": {
    "name": "ipython",
    "version": 3
   },
   "file_extension": ".py",
   "mimetype": "text/x-python",
   "name": "python",
   "nbconvert_exporter": "python",
   "pygments_lexer": "ipython3",
   "version": "3.6.1"
  }
 },
 "nbformat": 4,
 "nbformat_minor": 2
}
