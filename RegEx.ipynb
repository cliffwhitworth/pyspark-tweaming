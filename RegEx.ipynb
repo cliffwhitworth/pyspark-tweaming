{
 "cells": [
  {
   "cell_type": "markdown",
   "metadata": {},
   "source": [
    "## RegEx"
   ]
  },
  {
   "cell_type": "code",
   "execution_count": null,
   "metadata": {
    "collapsed": true
   },
   "outputs": [],
   "source": [
    "from pyspark.sql import SparkSession\n",
    "from pyspark import SparkContext\n",
    "\n",
    "sc = SparkContext()\n",
    "spark = SparkSession.builder.appName('RegEx').getOrCreate()"
   ]
  },
  {
   "cell_type": "code",
   "execution_count": null,
   "metadata": {
    "collapsed": true
   },
   "outputs": [],
   "source": [
    "lines=sc.textFile('data.txt')"
   ]
  },
  {
   "cell_type": "code",
   "execution_count": null,
   "metadata": {},
   "outputs": [],
   "source": [
    "import re\n",
    "\n",
    "m = ( lines.flatMap(lambda line: line.split(' '))\n",
    "     .filter(lambda word: re.match(r'[a-zA-Z][^-@\\'\\\\][^http]+', word))\n",
    "     .map(lambda word: (word.lower(), 1))\n",
    "     .reduceByKey(lambda x, y: x + y))\n",
    "    \n",
    "df = spark.createDataFrame(m, ['word', 'count'])\n",
    "df.createOrReplaceTempView('words')\n",
    "words = spark.sql('select word, count from words order by count desc limit 20')\n",
    "words.show()"
   ]
  },
  {
   "cell_type": "code",
   "execution_count": null,
   "metadata": {},
   "outputs": [],
   "source": [
    "from pyspark.ml.feature import Tokenizer, RegexTokenizer, StopWordsRemover\n",
    "\n",
    "df = (lines.flatMap(lambda line: line.split('b\\''))\n",
    "      .filter(lambda line: '\\\\' not in line)\n",
    "      .filter(lambda line: line != '')\n",
    "      .map(lambda line: (line, )).toDF(['tweet']))\n",
    "\n",
    "df.createOrReplaceTempView('tweets')\n",
    "tweets = spark.sql('select * from tweets')\n",
    "\n",
    "stopwords = StopWordsRemover().getStopWords()\n",
    "add_stopwords = ['http', 'https']\n",
    "# print(stopwords)\n",
    "regexTokenizer = RegexTokenizer(inputCol='tweet', outputCol='words', pattern='([0-9\\@\\W])').setMinTokenLength(3)\n",
    "regexTokenized = regexTokenizer.transform(tweets)\n",
    "\n",
    "remover = StopWordsRemover(inputCol='words', outputCol='cleaned').setStopWords(stopwords + add_stopwords)\n",
    "filtered_df = remover.transform(regexTokenized.select(['words']))\n",
    "filtered_df.select('cleaned').show(truncate=False)"
   ]
  },
  {
   "cell_type": "code",
   "execution_count": null,
   "metadata": {},
   "outputs": [],
   "source": [
    "from pyspark.sql.functions import explode, count, col, desc\n",
    "\n",
    "sum_of_words = filtered_df.withColumn('cleaned', explode(col('cleaned'))).groupBy('cleaned').agg(count('*'))\n",
    "sum_of_words.sort(desc('count(1)')).show()"
   ]
  }
 ],
 "metadata": {
  "kernelspec": {
   "display_name": "Python 3",
   "language": "python",
   "name": "python3"
  },
  "language_info": {
   "codemirror_mode": {
    "name": "ipython",
    "version": 3
   },
   "file_extension": ".py",
   "mimetype": "text/x-python",
   "name": "python",
   "nbconvert_exporter": "python",
   "pygments_lexer": "ipython3",
   "version": "3.6.1"
  }
 },
 "nbformat": 4,
 "nbformat_minor": 2
}
