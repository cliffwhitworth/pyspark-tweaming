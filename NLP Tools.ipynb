{
 "cells": [
  {
   "cell_type": "markdown",
   "metadata": {},
   "source": [
    "## NLP Tools\n",
    "shoutout to https://www.pieriandata.com/"
   ]
  },
  {
   "cell_type": "code",
   "execution_count": 1,
   "metadata": {
    "collapsed": true
   },
   "outputs": [],
   "source": [
    "from pyspark.sql import SparkSession\n",
    "from pyspark import SparkContext\n",
    "from pyspark.ml.feature import Tokenizer, RegexTokenizer, StopWordsRemover, HashingTF, IDF, CountVectorizer\n",
    "from pyspark.sql.functions import col, udf\n",
    "from pyspark.sql.types import IntegerType\n",
    "import string\n",
    "\n",
    "sc = SparkContext()\n",
    "spark = SparkSession.builder.appName(\"SQLBasics\").getOrCreate()"
   ]
  },
  {
   "cell_type": "code",
   "execution_count": 2,
   "metadata": {
    "collapsed": true
   },
   "outputs": [],
   "source": [
    "lines=sc.textFile(\"data.txt\")"
   ]
  },
  {
   "cell_type": "code",
   "execution_count": 3,
   "metadata": {},
   "outputs": [
    {
     "name": "stdout",
     "output_type": "stream",
     "text": [
      "+--------+---------+-----------+\n",
      "|database|tableName|isTemporary|\n",
      "+--------+---------+-----------+\n",
      "|        |   tweets|       true|\n",
      "+--------+---------+-----------+\n",
      "\n",
      "+--------------------+\n",
      "|               tweet|\n",
      "+--------------------+\n",
      "|Listening on port...|\n",
      "|Received request ...|\n",
      "|If Ashley Purdy l...|\n",
      "|@jennyhalasz I pr...|\n",
      "|@Starecrows the o...|\n",
      "+--------------------+\n",
      "only showing top 5 rows\n",
      "\n"
     ]
    }
   ],
   "source": [
    "df = (lines.flatMap(lambda line: line.split('b\\''))\n",
    "      .filter(lambda line: '\\\\' not in line)\n",
    "      .filter(lambda line: line != '')\n",
    "      .map(lambda line: (line, )).toDF(['tweet']))\n",
    "\n",
    "df.createOrReplaceTempView('tweets')\n",
    "spark.sql( 'show tables from default' ).show()\n",
    "tweets = spark.sql('select * from tweets')\n",
    "tweets.show(5)"
   ]
  },
  {
   "cell_type": "code",
   "execution_count": 5,
   "metadata": {},
   "outputs": [
    {
     "name": "stdout",
     "output_type": "stream",
     "text": [
      "+--------------------+--------------------+------+\n",
      "|               tweet|               words|tokens|\n",
      "+--------------------+--------------------+------+\n",
      "|Listening on port...|[listening, on, p...|     4|\n",
      "|Received request ...|[received, reques...|     8|\n",
      "|If Ashley Purdy l...|[if, ashley, purd...|    22|\n",
      "|@jennyhalasz I pr...|[jennyhalasz, i, ...|    16|\n",
      "|@Starecrows the o...|[starecrows, the,...|    14|\n",
      "+--------------------+--------------------+------+\n",
      "only showing top 5 rows\n",
      "\n"
     ]
    }
   ],
   "source": [
    "regexTokenizer = RegexTokenizer(inputCol=\"tweet\", outputCol=\"words\", pattern=\"\\\\W\")\n",
    "\n",
    "countTokens = udf(lambda words: len(words), IntegerType())\n",
    "\n",
    "regexTokenized = regexTokenizer.transform(tweets)\n",
    "regexTokenized.select(\"tweet\", \"words\").withColumn(\"tokens\", countTokens(col(\"words\"))).show(n=5, truncate=True)"
   ]
  },
  {
   "cell_type": "code",
   "execution_count": 6,
   "metadata": {
    "scrolled": true
   },
   "outputs": [
    {
     "name": "stdout",
     "output_type": "stream",
     "text": [
      "+--------------------+--------------------+\n",
      "|               words|            filtered|\n",
      "+--------------------+--------------------+\n",
      "|[listening, on, p...|[listening, port,...|\n",
      "|[received, reques...|[received, reques...|\n",
      "|[if, ashley, purd...|[ashley, purdy, l...|\n",
      "|[jennyhalasz, i, ...|[jennyhalasz, pro...|\n",
      "|[starecrows, the,...|[starecrows, open...|\n",
      "+--------------------+--------------------+\n",
      "only showing top 5 rows\n",
      "\n"
     ]
    }
   ],
   "source": [
    "remover = StopWordsRemover(inputCol='words', outputCol='filtered')\n",
    "stop_words_removed = remover.transform(regexTokenized.select(['words']))\n",
    "stop_words_removed.show(5)"
   ]
  },
  {
   "cell_type": "code",
   "execution_count": 7,
   "metadata": {
    "scrolled": true
   },
   "outputs": [
    {
     "name": "stdout",
     "output_type": "stream",
     "text": [
      "+--------------------+--------------------+\n",
      "|            filtered|                 idf|\n",
      "+--------------------+--------------------+\n",
      "|[listening, port,...|(20,[4,14,16],[1....|\n",
      "|[received, reques...|(20,[1,4,12,13,15...|\n",
      "|[ashley, purdy, l...|(20,[2,3,6,10,12,...|\n",
      "|[jennyhalasz, pro...|(20,[1,3,5,11,16,...|\n",
      "|[starecrows, open...|(20,[0,3,4,6,10],...|\n",
      "+--------------------+--------------------+\n",
      "only showing top 5 rows\n",
      "\n"
     ]
    }
   ],
   "source": [
    "hashingTF = HashingTF(inputCol=\"filtered\", outputCol=\"rawFeatures\", numFeatures=20)\n",
    "featurizedData = hashingTF.transform(stop_words_removed)\n",
    "\n",
    "idf = IDF(inputCol=\"rawFeatures\", outputCol=\"idf\")\n",
    "idfModel = idf.fit(featurizedData)\n",
    "rescaledData = idfModel.transform(featurizedData)\n",
    "\n",
    "rescaledData.select(\"filtered\", \"idf\").show(5)"
   ]
  },
  {
   "cell_type": "code",
   "execution_count": 8,
   "metadata": {
    "scrolled": true
   },
   "outputs": [
    {
     "name": "stdout",
     "output_type": "stream",
     "text": [
      "+--------------------+--------------------+--------------------+\n",
      "|            filtered|                 idf|     countvectorizer|\n",
      "+--------------------+--------------------+--------------------+\n",
      "|[listening, port,...|(20,[4,14,16],[1....|           (3,[],[])|\n",
      "|[received, reques...|(20,[1,4,12,13,15...|           (3,[],[])|\n",
      "|[ashley, purdy, l...|(20,[2,3,6,10,12,...|       (3,[0],[1.0])|\n",
      "|[jennyhalasz, pro...|(20,[1,3,5,11,16,...|(3,[0,1,2],[1.0,1...|\n",
      "|[starecrows, open...|(20,[0,3,4,6,10],...|       (3,[0],[1.0])|\n",
      "+--------------------+--------------------+--------------------+\n",
      "only showing top 5 rows\n",
      "\n"
     ]
    }
   ],
   "source": [
    "cv = CountVectorizer(inputCol=\"filtered\", outputCol=\"countvectorizer\", vocabSize=3, minDF=2.0)\n",
    "\n",
    "model = cv.fit(rescaledData)\n",
    "\n",
    "result = model.transform(rescaledData)\n",
    "result.select(\"filtered\", \"idf\", \"countvectorizer\").show(5)"
   ]
  },
  {
   "cell_type": "code",
   "execution_count": 9,
   "metadata": {
    "scrolled": true
   },
   "outputs": [
    {
     "data": {
      "text/html": [
       "<div>\n",
       "<style>\n",
       "    .dataframe thead tr:only-child th {\n",
       "        text-align: right;\n",
       "    }\n",
       "\n",
       "    .dataframe thead th {\n",
       "        text-align: left;\n",
       "    }\n",
       "\n",
       "    .dataframe tbody tr th {\n",
       "        vertical-align: top;\n",
       "    }\n",
       "</style>\n",
       "<table border=\"1\" class=\"dataframe\">\n",
       "  <thead>\n",
       "    <tr style=\"text-align: right;\">\n",
       "      <th></th>\n",
       "      <th>words</th>\n",
       "      <th>filtered</th>\n",
       "      <th>rawFeatures</th>\n",
       "      <th>idf</th>\n",
       "      <th>countvectorizer</th>\n",
       "    </tr>\n",
       "  </thead>\n",
       "  <tbody>\n",
       "    <tr>\n",
       "      <th>0</th>\n",
       "      <td>[listening, on, port, 9999]</td>\n",
       "      <td>[listening, port, 9999]</td>\n",
       "      <td>(0.0, 0.0, 0.0, 0.0, 1.0, 0.0, 0.0, 0.0, 0.0, ...</td>\n",
       "      <td>(0.0, 0.0, 0.0, 0.0, 1.2472533126843983, 0.0, ...</td>\n",
       "      <td>(0.0, 0.0, 0.0)</td>\n",
       "    </tr>\n",
       "    <tr>\n",
       "      <th>1</th>\n",
       "      <td>[received, request, from, 127, 0, 0, 1, 46120]</td>\n",
       "      <td>[received, request, 127, 0, 0, 1, 46120]</td>\n",
       "      <td>(0.0, 1.0, 0.0, 0.0, 1.0, 0.0, 0.0, 0.0, 0.0, ...</td>\n",
       "      <td>(0.0, 1.2095129847015513, 0.0, 0.0, 1.24725331...</td>\n",
       "      <td>(0.0, 0.0, 0.0)</td>\n",
       "    </tr>\n",
       "    <tr>\n",
       "      <th>2</th>\n",
       "      <td>[if, ashley, purdy, left, bvb, how, am, i, gon...</td>\n",
       "      <td>[ashley, purdy, left, bvb, gonna, look, naked,...</td>\n",
       "      <td>(0.0, 0.0, 2.0, 2.0, 0.0, 0.0, 2.0, 0.0, 0.0, ...</td>\n",
       "      <td>(0.0, 0.0, 3.019235154303779, 0.17301848581856...</td>\n",
       "      <td>(1.0, 0.0, 0.0)</td>\n",
       "    </tr>\n",
       "    <tr>\n",
       "      <th>3</th>\n",
       "      <td>[jennyhalasz, i, probably, would, have, gone, ...</td>\n",
       "      <td>[jennyhalasz, probably, gone, guitar, stuff, h...</td>\n",
       "      <td>(0.0, 1.0, 0.0, 1.0, 0.0, 1.0, 0.0, 0.0, 0.0, ...</td>\n",
       "      <td>(0.0, 1.2095129847015513, 0.0, 0.0865092429092...</td>\n",
       "      <td>(1.0, 1.0, 1.0)</td>\n",
       "    </tr>\n",
       "    <tr>\n",
       "      <th>4</th>\n",
       "      <td>[starecrows, the, opening, with, the, guitar, ...</td>\n",
       "      <td>[starecrows, opening, guitar, part, loops, end]</td>\n",
       "      <td>(2.0, 0.0, 0.0, 1.0, 1.0, 0.0, 1.0, 0.0, 0.0, ...</td>\n",
       "      <td>(2.65459204071587, 0.0, 0.0, 0.086509242909282...</td>\n",
       "      <td>(1.0, 0.0, 0.0)</td>\n",
       "    </tr>\n",
       "  </tbody>\n",
       "</table>\n",
       "</div>"
      ],
      "text/plain": [
       "                                               words  \\\n",
       "0                        [listening, on, port, 9999]   \n",
       "1     [received, request, from, 127, 0, 0, 1, 46120]   \n",
       "2  [if, ashley, purdy, left, bvb, how, am, i, gon...   \n",
       "3  [jennyhalasz, i, probably, would, have, gone, ...   \n",
       "4  [starecrows, the, opening, with, the, guitar, ...   \n",
       "\n",
       "                                            filtered  \\\n",
       "0                            [listening, port, 9999]   \n",
       "1           [received, request, 127, 0, 0, 1, 46120]   \n",
       "2  [ashley, purdy, left, bvb, gonna, look, naked,...   \n",
       "3  [jennyhalasz, probably, gone, guitar, stuff, h...   \n",
       "4    [starecrows, opening, guitar, part, loops, end]   \n",
       "\n",
       "                                         rawFeatures  \\\n",
       "0  (0.0, 0.0, 0.0, 0.0, 1.0, 0.0, 0.0, 0.0, 0.0, ...   \n",
       "1  (0.0, 1.0, 0.0, 0.0, 1.0, 0.0, 0.0, 0.0, 0.0, ...   \n",
       "2  (0.0, 0.0, 2.0, 2.0, 0.0, 0.0, 2.0, 0.0, 0.0, ...   \n",
       "3  (0.0, 1.0, 0.0, 1.0, 0.0, 1.0, 0.0, 0.0, 0.0, ...   \n",
       "4  (2.0, 0.0, 0.0, 1.0, 1.0, 0.0, 1.0, 0.0, 0.0, ...   \n",
       "\n",
       "                                                 idf  countvectorizer  \n",
       "0  (0.0, 0.0, 0.0, 0.0, 1.2472533126843983, 0.0, ...  (0.0, 0.0, 0.0)  \n",
       "1  (0.0, 1.2095129847015513, 0.0, 0.0, 1.24725331...  (0.0, 0.0, 0.0)  \n",
       "2  (0.0, 0.0, 3.019235154303779, 0.17301848581856...  (1.0, 0.0, 0.0)  \n",
       "3  (0.0, 1.2095129847015513, 0.0, 0.0865092429092...  (1.0, 1.0, 1.0)  \n",
       "4  (2.65459204071587, 0.0, 0.0, 0.086509242909282...  (1.0, 0.0, 0.0)  "
      ]
     },
     "execution_count": 9,
     "metadata": {},
     "output_type": "execute_result"
    }
   ],
   "source": [
    "pandas_df = result.toPandas()\n",
    "pandas_df.head()"
   ]
  },
  {
   "cell_type": "code",
   "execution_count": 16,
   "metadata": {},
   "outputs": [
    {
     "name": "stdout",
     "output_type": "stream",
     "text": [
      "0.0 0.0 listening port 9999\n",
      "0.0 0.0 received request 127 0 0 1 46120\n",
      "-0.003409090909090917 0.35 ashley purdy left bvb gonna look naked women bass guitar see live\n",
      "0.0 0.0 jennyhalasz probably gone guitar stuff https co iuao7j0dro\n",
      "0.0 0.0 starecrows opening guitar part loops end\n",
      "-0.15000000000000002 0.5 b jamesbut_ bass guitar world smallest violin\n",
      "-0.15 0.4 merle travis dark dungeon solo guitar 1951 via r countrymusic https co kqoqnumt5g\n",
      "0.0 0.0 zager guitar giveaway https co oa3pp8mjie via zager_guitars\n",
      "0.0 0.0 wed 11 13 grossmont guitar ensemble https co audy2ffwnv\n",
      "0.0 0.0 b rt gtraddict impress people play guitar guitarist guitarplayer https co tvpbqrajnm\n",
      "0.0 0.0 metallica songs basically bunch guitar noise dude growling microphone change mind\n",
      "0.0 0.0 motleycrue corymarksmusic ffdp mick shhhhiiitttt underrated guitar player master slide method\n",
      "0.0 0.0 spooky guitar riff limbo stuck head since ago remember song\n",
      "0.25 0.55 sportsourcea slmandel least rutgers rock guitar lol\n",
      "0.0 0.0 spooky guitar riff limbo stuck head since ago remember song\n",
      "0.0 0.0 nossinbotseavz nothingbutsoda guitar pick earring see cuz legend\n",
      "0.0 0.0 acu4d dude happened guitar hero guitar controller\n",
      "0.0 0.0 badass\n",
      "0.0 0.0 rt morasee metallica songs basically bunch guitar noise dude growling microphone change mind\n",
      "0.0 0.0 epiphone guitar lot165 https co moxbucim0v https co 9uj6gaasoa\n",
      "-0.5 1.0 need electric guitar stop making sad ass music\n",
      "0.0 0.0 ahhhhhhhh meu casal\n",
      "0.0 0.0 guitarmoog saysueme part surfing melodies part rocking guitar blondieofficial cover stand\n",
      "0.0 0.0 jerrydouglas bet fan moon lend guitar bet make cry sing\n",
      "0.0 0.0 berlin guitar ensemble vs 1605munro malted ii https co mwlxuq2evs via youtube\n",
      "0.0 0.0 zager guitar giveaway https co ipsuvp0mij via zager_guitars\n",
      "0.0 0.0 bon jovi bonjovi_spain bonjovi bonjovi bonjovifans guitar guitarrist sinaloa happyfriday https co a3dtncngip\n",
      "-0.15000000000000002 0.5 b jtsom guitar drums bass piano violin voice mandolin ukulele banjo jamison taylor school music https co 5zeiqidpr8\n",
      "0.25 1.0 rt sorensblade watching two newbies play guitar hero freaking funny\n",
      "0.7 0.6000000000000001 squidsystem_ nah play guitar well b good\n",
      "0.3 0.2 lrt ed fun play guitar imo\n",
      "-0.30000000000000004 0.6 charlieputh charlie please play guitar really like styles ace base rocking\n",
      "0.0 0.0 simplesubmissi1 one looks like guitar\n",
      "0.0 0.0 rt epiphone song play guitar epiphone https co oscjbz1kni\n",
      "0.5681818181818181 0.37727272727272726 new update best acoustic guitar pickup reviews https co fdvepw1gmk\n",
      "0.0 0.0 thicc guitar https co raynnyknlf\n",
      "0.85 1.0 b prsguitars beautiful guitar\n",
      "0.1 0.2 need get guitar fixed\n",
      "0.0 0.0 rt send play guitar img20plus\n",
      "0.0 0.0 plays guitar nextheirbot\n",
      "0.0 0.0 maybe take guitar something idk\n",
      "0.0 0.0 rt fvckxford rt send play guitar img20plus\n",
      "0.43333333333333335 0.8333333333333334 5 easy guitar riffs play one string https co medil4slsd\n",
      "0.0 0.0 rt fvckxford rt send play guitar img20plus\n",
      "0.0 0.0 rt guitarplayernow may asked nine string guitar esp releasing one anyway https co hwvannez0p\n",
      "0.0 0.0 idk sleep play guitar try dads shirts hehe\n",
      "0.0 0.0 rt fvckxford rt send play guitar img20plus\n",
      "0.85 1.0 sleepycovers u play guitar beautifully\n",
      "1.0 1.0 awesome congrats ethan\n",
      "0.0 0.0 rt fvckxford rt send play guitar img20plus\n",
      "0.0 0.0 alsboringtweets al looks like play guitar mariachi band\n",
      "0.0 0.0 guy guitar friend https co vezeuvjpey\n",
      "0.0 0.0 rt fvckxford rt send play guitar img20plus\n",
      "0.0 0.0 rt fvckxford rt send play guitar img20plus\n",
      "0.0 0.0 thicc guitar https co b17azmwbhy\n",
      "1.0 0.3 plays guitar best among member bot\n",
      "0.0 0.0 rt fvckxford rt send play guitar img20plus\n",
      "0.0 0.0 acnymph ye pakka mumbai aayega aag laga dega ye bas guitar ki jagah matchbox aur matchstick dedo\n",
      "0.4 0.4214285714285714 b well fyi expect physical scoop mail guitar lol\n",
      "0.0 0.0 rt fvckxford rt send play guitar img20plus\n",
      "-0.1875 0.5 littlecomets guys taught kids keyboard guitar little comets\n",
      "0.0 0.0 calineedshelp sandilo71521482 guitar forums\n",
      "0.0 0.0 voy comprar another guitar\n",
      "0.0 0.125 play guitar interview envisions singer songwriter future bot\n",
      "-0.7142857142857143 0.8571428571428571 liliacband sick guitar strap\n",
      "0.5 0.6 rt theindieplan love guitar solo https co sznbdpbgss\n",
      "0.0 0.0 rt fvckxford rt send play guitar img20plus\n",
      "0.0 0.0 rt fvckxford rt send play guitar img20plus\n",
      "0.0 0.0 thinking bout western slide guitar shippuden gives sasuke every time shows screen reason\n",
      "0.0 0.0 mya_deville guitars amp guitar gear\n",
      "0.8666666666666667 0.8166666666666668 mattvogtrocks awesome track guitar player great think know lol\n",
      "0.0 0.0 b reason m repulsed men also continuously seek relationship one also guitar slaps\n",
      "0.0 0.0 rt fvckxford rt send play guitar img20plus\n",
      "0.13636363636363635 0.45454545454545453 b rt espguitarsusa let go jump phase esp 2020 new guitar preview https co xqvpxuzc2o https co iqaww1mlhx\n",
      "0.8 0.7 fasyrlazz ambik je lah elective guitar class lol\n",
      "0.0 0.0 cloverebi call coward guess cause au yang plays guitar change\n",
      "0.6 0.2 anderson smiled played guitar singing\n",
      "0.0 0.0 batman animated series theme guitar https co 2yoyomb5rx via youtube\n",
      "0.0 0.0 brb need immediately learn guitar tab found\n",
      "0.0 0.0 steve earle guitar town official video https co yofmbv9muy via youtube\n",
      "0.0 0.0 vontade de jogar guitar flash\n",
      "0.2 0.2 want keep going guitar fingers hurt much https co vcm6ux4k9e\n",
      "0.0 0.0 feeling get guitar comes let gt gt gt\n",
      "0.0 0.0 electro acoustic guitar lot209 https co 88yi9sow0s https co dgl8qnzzhc\n",
      "0.1 0.9 glen campbell gentle mind terrific guitar break https co iq9z0xo93f via youtube\n",
      "0.5 0.6 rt markcublee love played air guitar ended freestyle poses dream run https co srbu1oprkv\n",
      "0.43333333333333335 0.8333333333333334 rt bertucallus 5 easy guitar riffs play one string https co medil4slsd\n",
      "0.35 0.65 way play guitar cool want hear\n",
      "0.5 0.6 rt markcublee love played air guitar ended freestyle poses dream run https co srbu1oprkv\n",
      "0.0 0.0 spider man animated series theme guitar https co hztrfuh4iw via youtube\n",
      "0.0 0.0 fender guitar lot214 https co gfm8rjsiyv https co 5nhzm7r3rm\n",
      "0.0 0.0 use electric guitar\n",
      "0.3 0.9 rare flamenco guitar video carlos montoya farruca https co ai4nzo2sbf\n",
      "0.0 0.0 electric guitar amp acoustic guitar lot219 https co 6nckjsyzdg https co xjlai72aeb\n",
      "0.0 0.0 coldplay scientist fingerstyle guitar cover james bartholomew 15 11 19 19 58 https co v0howbkcgg\n",
      "0.0 0.0 rt pagingsammy need society bring back guitar hero mainstream\n",
      "0.0 0.0 rt blytheskindred gilbert writing song anne playing guitar content need\n",
      "0.0 0.25 recent guitar articles https co po9epnvdhv guitarrepair\n",
      "0.0 0.0 b suicide squad cut run guitar https co nh8auqyghw via youtube\n",
      "0.0 0.3 feel personally attacked\n",
      "0.0 0.0 wish knew play guitar college\n",
      "0.0 0.0 next guitar either going jazz master jaguar\n",
      "0.0 0.0 hello guitar scars\n",
      "0.0 0.0 bigmonkeyluvr25 hbomax wbhomeent guitar drums intensify\n",
      "0.0 0.0 blues guitar soloing basics https co ktvbozy7jf\n",
      "0.0 0.0 fingerstyle guitar https co t0cdpmzb67\n",
      "-0.2916666666666667 0.5416666666666666 epiphone electric guitar amp hard case lot228 https co awqqayogod https co tflo5cf1fs\n",
      "-0.25 0.625 zakkwyldebls reveals one song never able nail guitar https co zvtfa5sutm\n",
      "0.2 0.2 much like learn guitar\n",
      "0.0 0.0 star wars cantina theme guitar https co cmywasyxh7 via youtube\n",
      "0.0 1.0 pdf download final fantasy solo guitar collections sheet music book cd gt https co vosjugqblm\n",
      "0.4 0.8 free guitar lesson matt schofield albert collins playalong exercise https co 6gznwbomst https co xftgvry4nx\n",
      "0.0 0.0 never got jisung guitar vlive\n",
      "0.0 0.0 b wait bate guitar\n",
      "0.0 0.0 dave brubeck ma periode intellectuelle de teenagers\n",
      "-0.4 0.6 sheriff garris needs cbd thc relaxation poor dude always edge\n",
      "0.0 0.0 rt personallyrich girls play guitar still hottest girls undefeated\n",
      "0.0 0.0 latino sports channel using metal guitar remix wii sports theme commercial\n",
      "0.0 0.0 b rt becauseimdutch y goes lewis hamilton playing guitar guys https co ruudqposn2\n",
      "-0.25 0.625 rt guitarworld zakkwyldebls reveals one song never able nail guitar https co zvtfa5sutm\n",
      "0.2857142857142857 0.5357142857142857 b chase_lawrence play acoustic guitar moment joe electric right\n",
      "0.0 0.0 \n",
      "0.0 0.0 guitar\n",
      "0.0 0.0 rt personallyrich girls play guitar still hottest girls undefeated\n",
      "0.2 0.1 moseleyhydey seems every child class one getting one fergs wants guitar football shirts\n",
      "0.5 0.5 gold top guitar shop https co 8amv29ouym via goldtop_rj\n",
      "0.0 0.0 rt personallyrich girls play guitar still hottest girls undefeated\n",
      "0.0 0.0 got called\n",
      "0.25 0.3333333333333333 therapy one first songs ever learned play guitar come\n",
      "0.3333333333333333 0.26666666666666666 best spanish romantic guitar music relaxation sensual latin music https co tetwqdsc26 via youtube\n"
     ]
    },
    {
     "name": "stdout",
     "output_type": "stream",
     "text": [
      "0.3499999999999999 0.8833333333333333 rt trustinjonas wow look cool guitar nick holding nice https co xjom1f5utd\n",
      "0.0 0.5 c d open chords never knew existed https co h0fqfmmjte guitar guitarist guitarplayer guitars guitarlessons\n",
      "0.7 0.6000000000000001 baller85son guitar good jamiepruitt\n",
      "-0.6 1.0 rt zosowz jimmy awkward always holding guitar bb https co lxkr2x6mtr\n",
      "0.0 0.0 yesdragonxxx asweeneymusic sucioperro fender fendergbi guitar https co d1wtupoupl\n",
      "0.0 0.0 strymon bigsky reverb guitar effects pedal demo guitar https co jvdu8hd8xm\n",
      "0.13636363636363635 0.45454545454545453 b rt espguitarsusa let go jump phase esp 2020 new guitar preview https co xqvpxuzc2o https co iqaww1mlhx\n",
      "0.3499999999999999 0.8833333333333333 rt trustinjonas wow look cool guitar nick holding nice https co xjom1f5utd\n",
      "0.0 0.0 thegoldminer81 guitar hero\n",
      "-0.25 0.625 rt guitarworld zakkwyldebls reveals one song never able nail guitar https co zvtfa5sutm\n",
      "0.0 0.0 rt sawceofficial frank ocean room guitar cover https co 6vapcyih48\n",
      "0.0 0.0 rt personallyrich girls play guitar still hottest girls undefeated\n",
      "0.0 0.0 b see friends hanging re stuck guitar https co fdbietwcx2\n",
      "0.0 0.0 https co zanlsbip5n guitarlesson electricguitar learnguitar guitarist guitar https co zanlsbip5n\n",
      "-0.25 0.625 rt guitarworld zakkwyldebls reveals one song never able nail guitar https co zvtfa5sutm\n",
      "-0.15833333333333333 0.3333333333333333 boney m makes want snap guitar half play bass rest life\n",
      "0.0 0.0 b rt becauseimdutch y goes lewis hamilton playing guitar guys https co ruudqposn2\n",
      "0.0 0.0 rt personallyrich girls play guitar still hottest girls undefeated\n",
      "0.0 0.0 making guitar songs playing song stuff https co zzbf8teahw\n",
      "0.0 0.0 b girl d lot friend alerts facebook guitar whut\n",
      "0.0 0.0 rt billyunger guitar hero https co pmwu8r013b\n",
      "-0.8 0.9 met klavier said quote hate cishets guitar noises want information idk idk\n",
      "0.3333333333333333 0.45555555555555555 saw played guitar last month seemed happy mak mak haha\n",
      "-0.2 0.4 ad skeleton playing guitar sculpture hand carved antique bone statue grateful dead https co rhdgakzi9p https co il8t4kgbqy\n",
      "0.0 0.0 b hello emergency services ve attacked relatable content\n",
      "0.0 0.0 https co p5y8cufeep\n",
      "0.0 0.7666666666666666 play sexy pablo escobar caught alive playing crazy guitar solo https co jkzwl6nvi5\n",
      "0.4 0.7 rt rubyperry11 guy gift guitar lamp man cave night light handcrafted lighted glass block guitar lamp https co nerhboyvls via etsy\n",
      "-0.25 0.625 rt guitarworld zakkwyldebls reveals one song never able nail guitar https co zvtfa5sutm\n",
      "-0.475 0.55 b barely play guitar world worst rock star\n",
      "0.0 0.0 playing mc guitar class\n",
      "0.7000000000000001 0.95 amazing happy part issue tantrum band friends\n",
      "0.5 0.5 rt greatpartyforme many likes need guitar appear december 20 https co 4nkumbqqfe\n",
      "-0.25 0.375 u ever hear song guitar solo gd damn slick feel like ur hearts burst\n",
      "0.2 0.6 hasbro disney elena avalor scepter adventure doll guitar act fast 10 99 https co l1slhdjanh\n",
      "0.0 0.0 guitar mind proceeds put hand chainsaw blade https co yegw8xxmhj\n",
      "-0.15000000000000002 0.5 personallyrich ginnyhogan_ bass guitar count melissa auf der maur https co tywhe3ey66\n",
      "0.0 0.0 woman cry\n",
      "0.0 0.0 loulou2109 get guitar https co frdzqletna\n",
      "0.0 0.0 want\n",
      "0.5 0.5 gold top guitar shop https co mhaqvhpmti via goldtop_rj\n",
      "0.0 0.0 \n",
      "0.2 0.8 serenade gently play guitar strings klavbot\n",
      "0.5 0.8888888888888888 geauxcrimson surely eyes looked guitar\n",
      "0.0 0.0 b rt gtraddict impress people play guitar guitarist guitarplayer https co tvpbqrajnm\n",
      "0.0 0.0 white guy playing space acoustic guitar\n",
      "0.0 0.0 rt stinemusic blues guitar soloing basics https co ktvbozy7jf\n",
      "0.0 0.0 alright hear one guitar hero 3 remaster switch\n",
      "0.5 0.6 adland love hypothesis sing play guitar write instrument midi sequences\n",
      "0.0 0.0 playin guitar hero\n"
     ]
    }
   ],
   "source": [
    "from textblob import TextBlob\n",
    "\n",
    "for line in pandas_df.filtered.items():\n",
    "    blob = TextBlob(' '.join(line[1]))\n",
    "    print(blob.sentiment.polarity, blob.sentiment.subjectivity, ' '.join(line[1]))"
   ]
  },
  {
   "cell_type": "code",
   "execution_count": null,
   "metadata": {
    "collapsed": true
   },
   "outputs": [],
   "source": [
    "# split data"
   ]
  },
  {
   "cell_type": "code",
   "execution_count": null,
   "metadata": {
    "collapsed": true
   },
   "outputs": [],
   "source": [
    "# from textblob.classifiers import NaiveBayesClassifier\n",
    "# cl = NaiveBayesClassifier(train)\n",
    "# cl.accuracy(test) "
   ]
  }
 ],
 "metadata": {
  "kernelspec": {
   "display_name": "Python 3",
   "language": "python",
   "name": "python3"
  },
  "language_info": {
   "codemirror_mode": {
    "name": "ipython",
    "version": 3
   },
   "file_extension": ".py",
   "mimetype": "text/x-python",
   "name": "python",
   "nbconvert_exporter": "python",
   "pygments_lexer": "ipython3",
   "version": "3.6.1"
  }
 },
 "nbformat": 4,
 "nbformat_minor": 2
}
