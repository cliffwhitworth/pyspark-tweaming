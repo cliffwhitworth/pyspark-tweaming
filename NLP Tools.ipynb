{
 "cells": [
  {
   "cell_type": "markdown",
   "metadata": {},
   "source": [
    "## NLP Tools\n",
    "shoutout to https://www.pieriandata.com/"
   ]
  },
  {
   "cell_type": "code",
   "execution_count": 1,
   "metadata": {
    "collapsed": true
   },
   "outputs": [],
   "source": [
    "from pyspark.sql import SparkSession\n",
    "from pyspark import SparkContext\n",
    "from pyspark.ml.feature import Tokenizer, RegexTokenizer, StopWordsRemover, HashingTF, IDF, CountVectorizer\n",
    "from pyspark.sql.functions import col, udf\n",
    "from pyspark.sql.types import IntegerType\n",
    "import string\n",
    "\n",
    "sc = SparkContext()\n",
    "spark = SparkSession.builder.appName(\"SQLBasics\").getOrCreate()"
   ]
  },
  {
   "cell_type": "code",
   "execution_count": 2,
   "metadata": {
    "collapsed": true
   },
   "outputs": [],
   "source": [
    "lines=sc.textFile(\"data.txt\")"
   ]
  },
  {
   "cell_type": "code",
   "execution_count": 3,
   "metadata": {},
   "outputs": [
    {
     "name": "stdout",
     "output_type": "stream",
     "text": [
      "+--------+---------+-----------+\n",
      "|database|tableName|isTemporary|\n",
      "+--------+---------+-----------+\n",
      "|        |   tweets|       true|\n",
      "+--------+---------+-----------+\n",
      "\n",
      "+--------------------+\n",
      "|               tweet|\n",
      "+--------------------+\n",
      "|Listening on port...|\n",
      "|Received request ...|\n",
      "|If Ashley Purdy l...|\n",
      "|@jennyhalasz I pr...|\n",
      "|@Starecrows the o...|\n",
      "+--------------------+\n",
      "only showing top 5 rows\n",
      "\n"
     ]
    }
   ],
   "source": [
    "df = (lines.flatMap(lambda line: line.split('b\\''))\n",
    "      .filter(lambda line: '\\\\' not in line)\n",
    "      .filter(lambda line: line != '')\n",
    "      .map(lambda line: (line, )).toDF(['tweet']))\n",
    "\n",
    "df.createOrReplaceTempView('tweets')\n",
    "spark.sql( 'show tables from default' ).show()\n",
    "tweets = spark.sql('select * from tweets')\n",
    "tweets.show(5)"
   ]
  },
  {
   "cell_type": "code",
   "execution_count": 4,
   "metadata": {},
   "outputs": [
    {
     "name": "stdout",
     "output_type": "stream",
     "text": [
      "+--------------------+--------------------+------+\n",
      "|               tweet|               words|tokens|\n",
      "+--------------------+--------------------+------+\n",
      "|Listening on port...|[listening, on, p...|     4|\n",
      "|Received request ...|[received, reques...|     8|\n",
      "|If Ashley Purdy l...|[if, ashley, purd...|    22|\n",
      "|@jennyhalasz I pr...|[jennyhalasz, i, ...|    16|\n",
      "|@Starecrows the o...|[starecrows, the,...|    14|\n",
      "+--------------------+--------------------+------+\n",
      "only showing top 5 rows\n",
      "\n"
     ]
    }
   ],
   "source": [
    "regexTokenizer = RegexTokenizer(inputCol=\"tweet\", outputCol=\"words\", pattern=\"\\\\W\")\n",
    "\n",
    "countTokens = udf(lambda words: len(words), IntegerType())\n",
    "\n",
    "regexTokenized = regexTokenizer.transform(tweets)\n",
    "regexTokenized.select(\"tweet\", \"words\").withColumn(\"tokens\", countTokens(col(\"words\"))).show(n=5, truncate=True)"
   ]
  },
  {
   "cell_type": "code",
   "execution_count": 5,
   "metadata": {
    "scrolled": true
   },
   "outputs": [
    {
     "name": "stdout",
     "output_type": "stream",
     "text": [
      "+--------------------+--------------------+\n",
      "|               words|            filtered|\n",
      "+--------------------+--------------------+\n",
      "|[listening, on, p...|[listening, port,...|\n",
      "|[received, reques...|[received, reques...|\n",
      "|[if, ashley, purd...|[ashley, purdy, l...|\n",
      "|[jennyhalasz, i, ...|[jennyhalasz, pro...|\n",
      "|[starecrows, the,...|[starecrows, open...|\n",
      "+--------------------+--------------------+\n",
      "only showing top 5 rows\n",
      "\n"
     ]
    }
   ],
   "source": [
    "remover = StopWordsRemover(inputCol='words', outputCol='filtered')\n",
    "stop_words_removed = remover.transform(regexTokenized.select(['words']))\n",
    "stop_words_removed.show(5)"
   ]
  },
  {
   "cell_type": "code",
   "execution_count": 6,
   "metadata": {
    "scrolled": true
   },
   "outputs": [
    {
     "name": "stdout",
     "output_type": "stream",
     "text": [
      "+--------------------+--------------------+\n",
      "|            filtered|                 idf|\n",
      "+--------------------+--------------------+\n",
      "|[listening, port,...|(20,[4,14,16],[1....|\n",
      "|[received, reques...|(20,[1,4,12,13,15...|\n",
      "|[ashley, purdy, l...|(20,[2,3,6,10,12,...|\n",
      "|[jennyhalasz, pro...|(20,[1,3,5,11,16,...|\n",
      "|[starecrows, open...|(20,[0,3,4,6,10],...|\n",
      "+--------------------+--------------------+\n",
      "only showing top 5 rows\n",
      "\n"
     ]
    }
   ],
   "source": [
    "hashingTF = HashingTF(inputCol=\"filtered\", outputCol=\"rawFeatures\", numFeatures=20)\n",
    "featurizedData = hashingTF.transform(stop_words_removed)\n",
    "\n",
    "idf = IDF(inputCol=\"rawFeatures\", outputCol=\"idf\")\n",
    "idfModel = idf.fit(featurizedData)\n",
    "rescaledData = idfModel.transform(featurizedData)\n",
    "\n",
    "rescaledData.select(\"filtered\", \"idf\").show(5)"
   ]
  },
  {
   "cell_type": "code",
   "execution_count": 7,
   "metadata": {
    "scrolled": true
   },
   "outputs": [
    {
     "name": "stdout",
     "output_type": "stream",
     "text": [
      "+--------------------+--------------------+--------------------+\n",
      "|            filtered|                 idf|     countvectorizer|\n",
      "+--------------------+--------------------+--------------------+\n",
      "|[listening, port,...|(20,[4,14,16],[1....|           (3,[],[])|\n",
      "|[received, reques...|(20,[1,4,12,13,15...|           (3,[],[])|\n",
      "|[ashley, purdy, l...|(20,[2,3,6,10,12,...|       (3,[0],[1.0])|\n",
      "|[jennyhalasz, pro...|(20,[1,3,5,11,16,...|(3,[0,1,2],[1.0,1...|\n",
      "|[starecrows, open...|(20,[0,3,4,6,10],...|       (3,[0],[1.0])|\n",
      "+--------------------+--------------------+--------------------+\n",
      "only showing top 5 rows\n",
      "\n"
     ]
    }
   ],
   "source": [
    "cv = CountVectorizer(inputCol=\"filtered\", outputCol=\"countvectorizer\", vocabSize=3, minDF=2.0)\n",
    "\n",
    "model = cv.fit(rescaledData)\n",
    "\n",
    "result = model.transform(rescaledData)\n",
    "result.select(\"filtered\", \"idf\", \"countvectorizer\").show(5)"
   ]
  },
  {
   "cell_type": "code",
   "execution_count": 8,
   "metadata": {
    "scrolled": true
   },
   "outputs": [
    {
     "data": {
      "text/html": [
       "<div>\n",
       "<style>\n",
       "    .dataframe thead tr:only-child th {\n",
       "        text-align: right;\n",
       "    }\n",
       "\n",
       "    .dataframe thead th {\n",
       "        text-align: left;\n",
       "    }\n",
       "\n",
       "    .dataframe tbody tr th {\n",
       "        vertical-align: top;\n",
       "    }\n",
       "</style>\n",
       "<table border=\"1\" class=\"dataframe\">\n",
       "  <thead>\n",
       "    <tr style=\"text-align: right;\">\n",
       "      <th></th>\n",
       "      <th>words</th>\n",
       "      <th>filtered</th>\n",
       "      <th>rawFeatures</th>\n",
       "      <th>idf</th>\n",
       "      <th>countvectorizer</th>\n",
       "    </tr>\n",
       "  </thead>\n",
       "  <tbody>\n",
       "    <tr>\n",
       "      <th>0</th>\n",
       "      <td>[listening, on, port, 9999]</td>\n",
       "      <td>[listening, port, 9999]</td>\n",
       "      <td>(0.0, 0.0, 0.0, 0.0, 1.0, 0.0, 0.0, 0.0, 0.0, ...</td>\n",
       "      <td>(0.0, 0.0, 0.0, 0.0, 1.2472533126843983, 0.0, ...</td>\n",
       "      <td>(0.0, 0.0, 0.0)</td>\n",
       "    </tr>\n",
       "    <tr>\n",
       "      <th>1</th>\n",
       "      <td>[received, request, from, 127, 0, 0, 1, 46120]</td>\n",
       "      <td>[received, request, 127, 0, 0, 1, 46120]</td>\n",
       "      <td>(0.0, 1.0, 0.0, 0.0, 1.0, 0.0, 0.0, 0.0, 0.0, ...</td>\n",
       "      <td>(0.0, 1.2095129847015513, 0.0, 0.0, 1.24725331...</td>\n",
       "      <td>(0.0, 0.0, 0.0)</td>\n",
       "    </tr>\n",
       "    <tr>\n",
       "      <th>2</th>\n",
       "      <td>[if, ashley, purdy, left, bvb, how, am, i, gon...</td>\n",
       "      <td>[ashley, purdy, left, bvb, gonna, look, naked,...</td>\n",
       "      <td>(0.0, 0.0, 2.0, 2.0, 0.0, 0.0, 2.0, 0.0, 0.0, ...</td>\n",
       "      <td>(0.0, 0.0, 3.019235154303779, 0.17301848581856...</td>\n",
       "      <td>(1.0, 0.0, 0.0)</td>\n",
       "    </tr>\n",
       "    <tr>\n",
       "      <th>3</th>\n",
       "      <td>[jennyhalasz, i, probably, would, have, gone, ...</td>\n",
       "      <td>[jennyhalasz, probably, gone, guitar, stuff, h...</td>\n",
       "      <td>(0.0, 1.0, 0.0, 1.0, 0.0, 1.0, 0.0, 0.0, 0.0, ...</td>\n",
       "      <td>(0.0, 1.2095129847015513, 0.0, 0.0865092429092...</td>\n",
       "      <td>(1.0, 1.0, 1.0)</td>\n",
       "    </tr>\n",
       "    <tr>\n",
       "      <th>4</th>\n",
       "      <td>[starecrows, the, opening, with, the, guitar, ...</td>\n",
       "      <td>[starecrows, opening, guitar, part, loops, end]</td>\n",
       "      <td>(2.0, 0.0, 0.0, 1.0, 1.0, 0.0, 1.0, 0.0, 0.0, ...</td>\n",
       "      <td>(2.65459204071587, 0.0, 0.0, 0.086509242909282...</td>\n",
       "      <td>(1.0, 0.0, 0.0)</td>\n",
       "    </tr>\n",
       "  </tbody>\n",
       "</table>\n",
       "</div>"
      ],
      "text/plain": [
       "                                               words  \\\n",
       "0                        [listening, on, port, 9999]   \n",
       "1     [received, request, from, 127, 0, 0, 1, 46120]   \n",
       "2  [if, ashley, purdy, left, bvb, how, am, i, gon...   \n",
       "3  [jennyhalasz, i, probably, would, have, gone, ...   \n",
       "4  [starecrows, the, opening, with, the, guitar, ...   \n",
       "\n",
       "                                            filtered  \\\n",
       "0                            [listening, port, 9999]   \n",
       "1           [received, request, 127, 0, 0, 1, 46120]   \n",
       "2  [ashley, purdy, left, bvb, gonna, look, naked,...   \n",
       "3  [jennyhalasz, probably, gone, guitar, stuff, h...   \n",
       "4    [starecrows, opening, guitar, part, loops, end]   \n",
       "\n",
       "                                         rawFeatures  \\\n",
       "0  (0.0, 0.0, 0.0, 0.0, 1.0, 0.0, 0.0, 0.0, 0.0, ...   \n",
       "1  (0.0, 1.0, 0.0, 0.0, 1.0, 0.0, 0.0, 0.0, 0.0, ...   \n",
       "2  (0.0, 0.0, 2.0, 2.0, 0.0, 0.0, 2.0, 0.0, 0.0, ...   \n",
       "3  (0.0, 1.0, 0.0, 1.0, 0.0, 1.0, 0.0, 0.0, 0.0, ...   \n",
       "4  (2.0, 0.0, 0.0, 1.0, 1.0, 0.0, 1.0, 0.0, 0.0, ...   \n",
       "\n",
       "                                                 idf  countvectorizer  \n",
       "0  (0.0, 0.0, 0.0, 0.0, 1.2472533126843983, 0.0, ...  (0.0, 0.0, 0.0)  \n",
       "1  (0.0, 1.2095129847015513, 0.0, 0.0, 1.24725331...  (0.0, 0.0, 0.0)  \n",
       "2  (0.0, 0.0, 3.019235154303779, 0.17301848581856...  (1.0, 0.0, 0.0)  \n",
       "3  (0.0, 1.2095129847015513, 0.0, 0.0865092429092...  (1.0, 1.0, 1.0)  \n",
       "4  (2.65459204071587, 0.0, 0.0, 0.086509242909282...  (1.0, 0.0, 0.0)  "
      ]
     },
     "execution_count": 8,
     "metadata": {},
     "output_type": "execute_result"
    }
   ],
   "source": [
    "pandas_df = result.toPandas()\n",
    "pandas_df.head()"
   ]
  },
  {
   "cell_type": "code",
   "execution_count": 9,
   "metadata": {},
   "outputs": [
    {
     "name": "stdout",
     "output_type": "stream",
     "text": [
      "pos    44\n",
      "neg    22\n",
      "Name: label, dtype: int64\n",
      "   polarity  subjectivity                                              tweet  \\\n",
      "0 -0.003409          0.35  ashley purdy left bvb gonna look naked women b...   \n",
      "1 -0.150000          0.50      b jamesbut_ bass guitar world smallest violin   \n",
      "2 -0.150000          0.40  merle travis dark dungeon solo guitar 1951 via...   \n",
      "3  0.250000          0.55  sportsourcea slmandel least rutgers rock guita...   \n",
      "4 -0.500000          1.00     need electric guitar stop making sad ass music   \n",
      "\n",
      "  label  \n",
      "0   neg  \n",
      "1   neg  \n",
      "2   neg  \n",
      "3   pos  \n",
      "4   neg  \n"
     ]
    }
   ],
   "source": [
    "import pandas as pd\n",
    "from textblob import TextBlob\n",
    "\n",
    "ta = []\n",
    "for line in pandas_df.filtered.items():\n",
    "    blob = TextBlob(' '.join(line[1]))\n",
    "    if blob.sentiment.polarity != 0 and blob.sentiment.subjectivity !=0:\n",
    "#         print(blob.sentiment.polarity, blob.sentiment.subjectivity, ' '.join(line[1]))\n",
    "        ta.append((blob.sentiment.polarity, blob.sentiment.subjectivity, ' '.join(line[1])))\n",
    " \n",
    "sentiment_df = pd.DataFrame(ta, columns=('polarity', 'subjectivity', 'tweet'))\n",
    "sentiment_df['label'] = sentiment_df.polarity.apply(lambda x: 'pos' if x > 0 else 'neg')\n",
    "print(sentiment_df['label'].value_counts())\n",
    "print(sentiment_df.head())"
   ]
  },
  {
   "cell_type": "code",
   "execution_count": 10,
   "metadata": {},
   "outputs": [],
   "source": [
    "# split data\n",
    "import math\n",
    "import random\n",
    "\n",
    "classifier_tuples = list(sentiment_df.drop(['polarity', 'subjectivity'], axis=1).itertuples(index=False, name=None))\n",
    "train=random.sample(classifier_tuples, math.ceil(len(classifier_tuples) * .8))\n",
    "test=[t for t in classifier_tuples if t not in train]"
   ]
  },
  {
   "cell_type": "code",
   "execution_count": 11,
   "metadata": {},
   "outputs": [
    {
     "name": "stdout",
     "output_type": "stream",
     "text": [
      "Classifier Accuracy: 0.50\n"
     ]
    }
   ],
   "source": [
    "from textblob.classifiers import NaiveBayesClassifier\n",
    "cl = NaiveBayesClassifier(train)\n",
    "print(\"Classifier Accuracy: {:.2f}\".format(cl.accuracy(test)))"
   ]
  },
  {
   "cell_type": "code",
   "execution_count": 12,
   "metadata": {},
   "outputs": [
    {
     "name": "stdout",
     "output_type": "stream",
     "text": [
      "Most Informative Features\n",
      "          contains(want) = True              neg : pos    =      2.4 : 1.0\n",
      "           contains(one) = True              neg : pos    =      2.4 : 1.0\n",
      "          contains(like) = True              neg : pos    =      2.4 : 1.0\n",
      "         contains(music) = True              neg : pos    =      2.4 : 1.0\n",
      "        contains(guitar) = False             neg : pos    =      2.4 : 1.0\n",
      "    contains(relaxation) = True              neg : pos    =      2.4 : 1.0\n",
      "           contains(via) = True              pos : neg    =      1.5 : 1.0\n",
      "          contains(look) = True              neg : pos    =      1.5 : 1.0\n",
      "         contains(never) = False             pos : neg    =      1.4 : 1.0\n",
      "    contains(zvtfa5sutm) = False             pos : neg    =      1.4 : 1.0\n"
     ]
    }
   ],
   "source": [
    "cl.show_informative_features(10)"
   ]
  }
 ],
 "metadata": {
  "kernelspec": {
   "display_name": "Python 3",
   "language": "python",
   "name": "python3"
  },
  "language_info": {
   "codemirror_mode": {
    "name": "ipython",
    "version": 3
   },
   "file_extension": ".py",
   "mimetype": "text/x-python",
   "name": "python",
   "nbconvert_exporter": "python",
   "pygments_lexer": "ipython3",
   "version": "3.6.1"
  }
 },
 "nbformat": 4,
 "nbformat_minor": 2
}
