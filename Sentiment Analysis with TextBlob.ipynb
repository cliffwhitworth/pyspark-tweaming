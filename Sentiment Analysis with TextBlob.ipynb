{
 "cells": [
  {
   "cell_type": "markdown",
   "metadata": {},
   "source": [
    "## Sentiment Analysis with TextBlob"
   ]
  },
  {
   "cell_type": "code",
   "execution_count": 1,
   "metadata": {
    "collapsed": true
   },
   "outputs": [],
   "source": [
    "from pyspark.sql import SparkSession\n",
    "from pyspark import SparkContext\n",
    "from pyspark.ml.feature import Tokenizer, RegexTokenizer, StopWordsRemover\n",
    "from pyspark.sql.functions import col, udf\n",
    "from pyspark.sql.types import IntegerType\n",
    "import string\n",
    "\n",
    "sc = SparkContext()\n",
    "spark = SparkSession.builder.appName(\"SentimentAnalysis\").getOrCreate()"
   ]
  },
  {
   "cell_type": "code",
   "execution_count": 2,
   "metadata": {},
   "outputs": [
    {
     "name": "stdout",
     "output_type": "stream",
     "text": [
      "+--------------------+\n",
      "|               tweet|\n",
      "+--------------------+\n",
      "|Listening on port...|\n",
      "|Received request ...|\n",
      "|If Ashley Purdy l...|\n",
      "|@jennyhalasz I pr...|\n",
      "|@Starecrows the o...|\n",
      "+--------------------+\n",
      "only showing top 5 rows\n",
      "\n"
     ]
    }
   ],
   "source": [
    "lines=sc.textFile(\"data.txt\")\n",
    "df = (lines.flatMap(lambda line: line.split('b\\''))\n",
    "      .filter(lambda line: '\\\\' not in line)\n",
    "      .filter(lambda line: line != '')\n",
    "      .map(lambda line: (line, )).toDF(['tweet']))\n",
    "\n",
    "df.createOrReplaceTempView('tweets')\n",
    "# spark.sql( 'show tables from default' ).show()\n",
    "tweets = spark.sql('select * from tweets')\n",
    "tweets.show(5)"
   ]
  },
  {
   "cell_type": "code",
   "execution_count": 3,
   "metadata": {},
   "outputs": [
    {
     "name": "stdout",
     "output_type": "stream",
     "text": [
      "+--------------------+--------------------+\n",
      "|               tweet|               words|\n",
      "+--------------------+--------------------+\n",
      "|Listening on port...|[listening, on, p...|\n",
      "|Received request ...|[received, reques...|\n",
      "|If Ashley Purdy l...|[if, ashley, purd...|\n",
      "|@jennyhalasz I pr...|[jennyhalasz, i, ...|\n",
      "|@Starecrows the o...|[starecrows, the,...|\n",
      "+--------------------+--------------------+\n",
      "only showing top 5 rows\n",
      "\n"
     ]
    }
   ],
   "source": [
    "regexTokenizer = RegexTokenizer(inputCol='tweet', outputCol='words', pattern='\\\\W')\n",
    "regexTokenized = regexTokenizer.transform(tweets)\n",
    "regexTokenized.show(5)"
   ]
  },
  {
   "cell_type": "code",
   "execution_count": 4,
   "metadata": {
    "scrolled": true
   },
   "outputs": [
    {
     "name": "stdout",
     "output_type": "stream",
     "text": [
      "+--------------------+--------------------+\n",
      "|               words|            filtered|\n",
      "+--------------------+--------------------+\n",
      "|[listening, on, p...|[listening, port,...|\n",
      "|[received, reques...|[received, reques...|\n",
      "|[if, ashley, purd...|[ashley, purdy, l...|\n",
      "|[jennyhalasz, i, ...|[jennyhalasz, pro...|\n",
      "|[starecrows, the,...|[starecrows, open...|\n",
      "+--------------------+--------------------+\n",
      "only showing top 5 rows\n",
      "\n"
     ]
    }
   ],
   "source": [
    "remover = StopWordsRemover(inputCol='words', outputCol='filtered')\n",
    "stop_words_removed = remover.transform(regexTokenized.select(['words']))\n",
    "stop_words_removed.show(5)"
   ]
  },
  {
   "cell_type": "code",
   "execution_count": 5,
   "metadata": {},
   "outputs": [
    {
     "name": "stdout",
     "output_type": "stream",
     "text": [
      "+--------------------+--------------------+--------------------+\n",
      "|               words|            filtered|             cleaned|\n",
      "+--------------------+--------------------+--------------------+\n",
      "|[listening, on, p...|[listening, port,...|[listening, port,...|\n",
      "|[received, reques...|[received, reques...|[received, reques...|\n",
      "|[if, ashley, purd...|[ashley, purdy, l...|[ashley, purdy, l...|\n",
      "|[jennyhalasz, i, ...|[jennyhalasz, pro...|[jennyhalasz, pro...|\n",
      "|[starecrows, the,...|[starecrows, open...|[starecrows, open...|\n",
      "+--------------------+--------------------+--------------------+\n",
      "only showing top 5 rows\n",
      "\n"
     ]
    }
   ],
   "source": [
    "from pyspark.sql import functions as f\n",
    "cleaned_df = stop_words_removed.withColumn('cleaned', f.expr('filter(filtered, x -> not(length(x) < 4))'))\n",
    "cleaned_df.show(5)"
   ]
  },
  {
   "cell_type": "code",
   "execution_count": 6,
   "metadata": {
    "scrolled": true
   },
   "outputs": [
    {
     "data": {
      "text/html": [
       "<div>\n",
       "<style>\n",
       "    .dataframe thead tr:only-child th {\n",
       "        text-align: right;\n",
       "    }\n",
       "\n",
       "    .dataframe thead th {\n",
       "        text-align: left;\n",
       "    }\n",
       "\n",
       "    .dataframe tbody tr th {\n",
       "        vertical-align: top;\n",
       "    }\n",
       "</style>\n",
       "<table border=\"1\" class=\"dataframe\">\n",
       "  <thead>\n",
       "    <tr style=\"text-align: right;\">\n",
       "      <th></th>\n",
       "      <th>words</th>\n",
       "      <th>filtered</th>\n",
       "      <th>cleaned</th>\n",
       "    </tr>\n",
       "  </thead>\n",
       "  <tbody>\n",
       "    <tr>\n",
       "      <th>0</th>\n",
       "      <td>[listening, on, port, 9999]</td>\n",
       "      <td>[listening, port, 9999]</td>\n",
       "      <td>[listening, port, 9999]</td>\n",
       "    </tr>\n",
       "    <tr>\n",
       "      <th>1</th>\n",
       "      <td>[received, request, from, 127, 0, 0, 1, 46120]</td>\n",
       "      <td>[received, request, 127, 0, 0, 1, 46120]</td>\n",
       "      <td>[received, request, 46120]</td>\n",
       "    </tr>\n",
       "    <tr>\n",
       "      <th>2</th>\n",
       "      <td>[if, ashley, purdy, left, bvb, how, am, i, gon...</td>\n",
       "      <td>[ashley, purdy, left, bvb, gonna, look, naked,...</td>\n",
       "      <td>[ashley, purdy, left, gonna, look, naked, wome...</td>\n",
       "    </tr>\n",
       "    <tr>\n",
       "      <th>3</th>\n",
       "      <td>[jennyhalasz, i, probably, would, have, gone, ...</td>\n",
       "      <td>[jennyhalasz, probably, gone, guitar, stuff, h...</td>\n",
       "      <td>[jennyhalasz, probably, gone, guitar, stuff, h...</td>\n",
       "    </tr>\n",
       "    <tr>\n",
       "      <th>4</th>\n",
       "      <td>[starecrows, the, opening, with, the, guitar, ...</td>\n",
       "      <td>[starecrows, opening, guitar, part, loops, end]</td>\n",
       "      <td>[starecrows, opening, guitar, part, loops]</td>\n",
       "    </tr>\n",
       "  </tbody>\n",
       "</table>\n",
       "</div>"
      ],
      "text/plain": [
       "                                               words  \\\n",
       "0                        [listening, on, port, 9999]   \n",
       "1     [received, request, from, 127, 0, 0, 1, 46120]   \n",
       "2  [if, ashley, purdy, left, bvb, how, am, i, gon...   \n",
       "3  [jennyhalasz, i, probably, would, have, gone, ...   \n",
       "4  [starecrows, the, opening, with, the, guitar, ...   \n",
       "\n",
       "                                            filtered  \\\n",
       "0                            [listening, port, 9999]   \n",
       "1           [received, request, 127, 0, 0, 1, 46120]   \n",
       "2  [ashley, purdy, left, bvb, gonna, look, naked,...   \n",
       "3  [jennyhalasz, probably, gone, guitar, stuff, h...   \n",
       "4    [starecrows, opening, guitar, part, loops, end]   \n",
       "\n",
       "                                             cleaned  \n",
       "0                            [listening, port, 9999]  \n",
       "1                         [received, request, 46120]  \n",
       "2  [ashley, purdy, left, gonna, look, naked, wome...  \n",
       "3  [jennyhalasz, probably, gone, guitar, stuff, h...  \n",
       "4         [starecrows, opening, guitar, part, loops]  "
      ]
     },
     "execution_count": 6,
     "metadata": {},
     "output_type": "execute_result"
    }
   ],
   "source": [
    "df = cleaned_df.toPandas()\n",
    "df.head()"
   ]
  },
  {
   "cell_type": "code",
   "execution_count": 7,
   "metadata": {},
   "outputs": [
    {
     "name": "stdout",
     "output_type": "stream",
     "text": [
      "pos    36\n",
      "neg    22\n",
      "Name: label, dtype: int64\n"
     ]
    },
    {
     "data": {
      "text/html": [
       "<div>\n",
       "<style>\n",
       "    .dataframe thead tr:only-child th {\n",
       "        text-align: right;\n",
       "    }\n",
       "\n",
       "    .dataframe thead th {\n",
       "        text-align: left;\n",
       "    }\n",
       "\n",
       "    .dataframe tbody tr th {\n",
       "        vertical-align: top;\n",
       "    }\n",
       "</style>\n",
       "<table border=\"1\" class=\"dataframe\">\n",
       "  <thead>\n",
       "    <tr style=\"text-align: right;\">\n",
       "      <th></th>\n",
       "      <th>polarity</th>\n",
       "      <th>subjectivity</th>\n",
       "      <th>tweet</th>\n",
       "      <th>label</th>\n",
       "    </tr>\n",
       "  </thead>\n",
       "  <tbody>\n",
       "    <tr>\n",
       "      <th>0</th>\n",
       "      <td>-0.003409</td>\n",
       "      <td>0.35</td>\n",
       "      <td>ashley purdy left gonna look naked women bass ...</td>\n",
       "      <td>neg</td>\n",
       "    </tr>\n",
       "    <tr>\n",
       "      <th>1</th>\n",
       "      <td>-0.150000</td>\n",
       "      <td>0.50</td>\n",
       "      <td>jamesbut_ bass guitar world smallest violin</td>\n",
       "      <td>neg</td>\n",
       "    </tr>\n",
       "    <tr>\n",
       "      <th>2</th>\n",
       "      <td>-0.150000</td>\n",
       "      <td>0.40</td>\n",
       "      <td>merle travis dark dungeon solo guitar 1951 cou...</td>\n",
       "      <td>neg</td>\n",
       "    </tr>\n",
       "    <tr>\n",
       "      <th>3</th>\n",
       "      <td>-0.300000</td>\n",
       "      <td>0.40</td>\n",
       "      <td>sportsourcea slmandel least rutgers rock guitar</td>\n",
       "      <td>neg</td>\n",
       "    </tr>\n",
       "    <tr>\n",
       "      <th>4</th>\n",
       "      <td>-0.150000</td>\n",
       "      <td>0.50</td>\n",
       "      <td>jtsom guitar drums bass piano violin voice man...</td>\n",
       "      <td>neg</td>\n",
       "    </tr>\n",
       "  </tbody>\n",
       "</table>\n",
       "</div>"
      ],
      "text/plain": [
       "   polarity  subjectivity                                              tweet  \\\n",
       "0 -0.003409          0.35  ashley purdy left gonna look naked women bass ...   \n",
       "1 -0.150000          0.50        jamesbut_ bass guitar world smallest violin   \n",
       "2 -0.150000          0.40  merle travis dark dungeon solo guitar 1951 cou...   \n",
       "3 -0.300000          0.40    sportsourcea slmandel least rutgers rock guitar   \n",
       "4 -0.150000          0.50  jtsom guitar drums bass piano violin voice man...   \n",
       "\n",
       "  label  \n",
       "0   neg  \n",
       "1   neg  \n",
       "2   neg  \n",
       "3   neg  \n",
       "4   neg  "
      ]
     },
     "execution_count": 7,
     "metadata": {},
     "output_type": "execute_result"
    }
   ],
   "source": [
    "import pandas as pd\n",
    "from textblob import TextBlob\n",
    "\n",
    "ta = []\n",
    "for line in df.cleaned.items():\n",
    "    blob = TextBlob(' '.join(line[1]))\n",
    "    if blob.sentiment.polarity != 0 and blob.sentiment.subjectivity !=0:\n",
    "#         print(blob.sentiment.polarity, blob.sentiment.subjectivity, ' '.join(line[1]))\n",
    "        ta.append((blob.sentiment.polarity, blob.sentiment.subjectivity, ' '.join(line[1])))\n",
    " \n",
    "sentiment_df = pd.DataFrame(ta, columns=('polarity', 'subjectivity', 'tweet'))\n",
    "sentiment_df['label'] = sentiment_df.polarity.apply(lambda x: 'pos' if x > 0 else 'neg')\n",
    "print(sentiment_df['label'].value_counts())\n",
    "sentiment_df.head()"
   ]
  },
  {
   "cell_type": "code",
   "execution_count": 8,
   "metadata": {
    "collapsed": true
   },
   "outputs": [],
   "source": [
    "# split data\n",
    "import math\n",
    "import random\n",
    "\n",
    "classifier_tuples = list(sentiment_df.drop(['polarity', 'subjectivity'], axis=1).itertuples(index=False, name=None))\n",
    "train=random.sample(classifier_tuples, math.ceil(len(classifier_tuples) * .7))\n",
    "test=[t for t in classifier_tuples if t not in train]"
   ]
  },
  {
   "cell_type": "code",
   "execution_count": 9,
   "metadata": {},
   "outputs": [
    {
     "name": "stdout",
     "output_type": "stream",
     "text": [
      "Classifier Accuracy: 0.69\n"
     ]
    }
   ],
   "source": [
    "from textblob.classifiers import NaiveBayesClassifier\n",
    "cl = NaiveBayesClassifier(train)\n",
    "print(\"Classifier Accuracy: {:.2f}\".format(cl.accuracy(test)))"
   ]
  },
  {
   "cell_type": "code",
   "execution_count": 10,
   "metadata": {},
   "outputs": [
    {
     "name": "stdout",
     "output_type": "stream",
     "text": [
      "Most Informative Features\n",
      "      contains(electric) = True              neg : pos    =      1.5 : 1.0\n",
      "          contains(solo) = True              neg : pos    =      1.5 : 1.0\n",
      "          contains(want) = True              neg : pos    =      1.5 : 1.0\n",
      "         contains(music) = True              neg : pos    =      1.5 : 1.0\n",
      "          contains(like) = True              neg : pos    =      1.5 : 1.0\n",
      "    contains(relaxation) = True              neg : pos    =      1.5 : 1.0\n",
      "  contains(zakkwyldebls) = False             pos : neg    =      1.3 : 1.0\n",
      "          contains(song) = False             pos : neg    =      1.3 : 1.0\n",
      "       contains(reveals) = False             pos : neg    =      1.3 : 1.0\n",
      "   contains(guitarworld) = False             pos : neg    =      1.3 : 1.0\n"
     ]
    }
   ],
   "source": [
    "cl.show_informative_features(10)"
   ]
  }
 ],
 "metadata": {
  "kernelspec": {
   "display_name": "Python 3",
   "language": "python",
   "name": "python3"
  },
  "language_info": {
   "codemirror_mode": {
    "name": "ipython",
    "version": 3
   },
   "file_extension": ".py",
   "mimetype": "text/x-python",
   "name": "python",
   "nbconvert_exporter": "python",
   "pygments_lexer": "ipython3",
   "version": "3.6.1"
  }
 },
 "nbformat": 4,
 "nbformat_minor": 2
}
